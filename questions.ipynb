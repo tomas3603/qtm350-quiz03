{
 "cells": [
  {
   "cell_type": "code",
   "execution_count": 120,
   "metadata": {},
   "outputs": [
    {
     "name": "stdout",
     "output_type": "stream",
     "text": [
      "Emory ID: 2582623\n"
     ]
    }
   ],
   "source": [
    "print(\"Emory ID: 2582623\")"
   ]
  },
  {
   "cell_type": "code",
   "execution_count": 121,
   "metadata": {},
   "outputs": [],
   "source": [
    "import pandas as pd\n",
    "import seaborn as sns\n",
    "import matplotlib.pyplot as plt\n",
    "\n",
    "df = pd.read_csv(\"passwords.csv\")"
   ]
  },
  {
   "cell_type": "markdown",
   "metadata": {},
   "source": [
    "1. An online password attack is when someone tries to hack your account by simply trying a very large number of username/password combinations to access your account. For each `password` in our dataset, the `value` column shows the amount of time it is estimated to take an “online password attack” to hack your account. The column `time_unit` shows the units of that time value (e.g., hours, days, years, etc.). It would be much nicer if our values were of the same units so we can more easily compare the “online password guessing time” for each password. So your first task is to convert all of the values to units of hours (assume the conversion units provided below, e.g., 1 day is 24 hours, 1 week is 168 hours, etc)."
   ]
  },
  {
   "cell_type": "code",
   "execution_count": 122,
   "metadata": {},
   "outputs": [
    {
     "name": "stdout",
     "output_type": "stream",
     "text": [
      "   rank  password             category         value time_unit  \\\n",
      "0   1.0  password     password-related  60531.600000     hours   \n",
      "1   2.0    123456  simple-alphanumeric      0.308667     hours   \n",
      "2   3.0  12345678  simple-alphanumeric     30.960000     hours   \n",
      "3   4.0      1234  simple-alphanumeric      0.003086     hours   \n",
      "4   5.0    qwerty  simple-alphanumeric     89.280000     hours   \n",
      "\n",
      "   offline_crack_sec  rank_alt  strength  font_size  \n",
      "0       2.170000e+00       1.0       8.0       11.0  \n",
      "1       1.110000e-05       2.0       4.0        8.0  \n",
      "2       1.110000e-03       3.0       4.0        8.0  \n",
      "3       1.110000e-07       4.0       4.0        8.0  \n",
      "4       3.210000e-03       5.0       8.0       11.0  \n"
     ]
    }
   ],
   "source": [
    "units = {\n",
    "    \"seconds\": 1 / 3600,\n",
    "    \"minutes\": 1 / 60,\n",
    "    \"days\": 24,\n",
    "    \"weeks\": 168,\n",
    "    \"months\": 720,\n",
    "    \"years\": 8760,\n",
    "}\n",
    "\n",
    "df['conversion_factor'] = df['time_unit'].map(units)\n",
    "df['value_in_hours'] = df['value'] * df['conversion_factor']\n",
    "df['value'] = df['value_in_hours']\n",
    "df['time_unit'] = 'hours'\n",
    "df = df.drop(columns=['conversion_factor', 'value_in_hours'])\n",
    "print(df.head())"
   ]
  },
  {
   "cell_type": "markdown",
   "metadata": {},
   "source": [
    "2. Are there any missing values in the dataset? If so, how many? After you have counted the, please drop them from the dataset."
   ]
  },
  {
   "cell_type": "code",
   "execution_count": 123,
   "metadata": {},
   "outputs": [
    {
     "name": "stdout",
     "output_type": "stream",
     "text": [
      "Total Missing Values in Data: 99\n",
      "Missing Values for Each Feature:\n",
      "rank                  7\n",
      "password              7\n",
      "category              7\n",
      "value                50\n",
      "time_unit             0\n",
      "offline_crack_sec     7\n",
      "rank_alt              7\n",
      "strength              7\n",
      "font_size             7\n",
      "dtype: int64\n",
      "\n",
      "Missing Values after using `dropna()`:\n",
      "rank                 0\n",
      "password             0\n",
      "category             0\n",
      "value                0\n",
      "time_unit            0\n",
      "offline_crack_sec    0\n",
      "rank_alt             0\n",
      "strength             0\n",
      "font_size            0\n",
      "dtype: int64\n"
     ]
    }
   ],
   "source": [
    "total_missing_values = df.isna().sum().sum()\n",
    "missing_values_by_feature = df.isna().sum()\n",
    "print(f\"Total Missing Values in Data: {total_missing_values}\\nMissing Values for Each Feature:\\n{missing_values_by_feature}\")\n",
    "df.dropna(inplace=True)\n",
    "print(f\"\\nMissing Values after using `dropna()`:\\n{df.isna().sum()}\")"
   ]
  },
  {
   "cell_type": "markdown",
   "metadata": {},
   "source": [
    "3. Which password category has the highest average strength?\n"
   ]
  },
  {
   "cell_type": "code",
   "execution_count": 124,
   "metadata": {},
   "outputs": [
    {
     "name": "stdout",
     "output_type": "stream",
     "text": [
      "Average strength per category:\n",
      "category\n",
      "animal                  7.629630\n",
      "cool-macho              7.229730\n",
      "fluffy                  7.060606\n",
      "food                    4.400000\n",
      "name                    7.385542\n",
      "nerdy-pop              13.035714\n",
      "password-related        8.000000\n",
      "rebellious-rude         6.727273\n",
      "simple-alphanumeric     6.000000\n",
      "sport                   8.000000\n",
      "Name: strength, dtype: float64\n",
      "\n",
      "The category with the highest average strength is 'nerdy-pop' with an average strength of 13.04.\n"
     ]
    }
   ],
   "source": [
    "df['strength'] = pd.to_numeric(df['strength'], errors='coerce')\n",
    "average_strength = df.groupby('category')['strength'].mean()\n",
    "max_average_strength = average_strength.max()\n",
    "category_with_highest_avg_strength = average_strength.idxmax()\n",
    "print(\"Average strength per category:\")\n",
    "print(average_strength)\n",
    "print(f\"\\nThe category with the highest average strength is '{category_with_highest_avg_strength}' with an average strength of {max_average_strength:.2f}.\")"
   ]
  },
  {
   "cell_type": "markdown",
   "metadata": {},
   "source": [
    "4. What is the rank of the password 'qwerty'?"
   ]
  },
  {
   "cell_type": "code",
   "execution_count": 125,
   "metadata": {},
   "outputs": [
    {
     "name": "stdout",
     "output_type": "stream",
     "text": [
      "The rank of the password 'qwerty' is 5.0.\n"
     ]
    }
   ],
   "source": [
    "qwerty_row = df[df['password'] == 'qwerty']\n",
    "\n",
    "qwerty_rank = qwerty_row['rank'].iloc[0]\n",
    "print(f\"The rank of the password 'qwerty' is {qwerty_rank}.\")"
   ]
  },
  {
   "cell_type": "markdown",
   "metadata": {},
   "source": [
    "5. How many passwords have more than 8 characters?"
   ]
  },
  {
   "cell_type": "code",
   "execution_count": 126,
   "metadata": {},
   "outputs": [
    {
     "name": "stdout",
     "output_type": "stream",
     "text": [
      "There is 1 password with more than 8 characters.\n"
     ]
    }
   ],
   "source": [
    "df['password_length'] = df['password'].apply(len)\n",
    "passwords_over_8 = df[df['password_length'] > 8]\n",
    "num_passwords_over_8 = passwords_over_8.shape[0]\n",
    "\n",
    "# unnecessary but noticed it was 1 so did it because why not\n",
    "def words(num_passwords):\n",
    "    if num_passwords != 1:\n",
    "        return (\"are\", \"passwords\")\n",
    "    else:\n",
    "        return(\"is\", \"password\")\n",
    "\n",
    "word1, word2 = words(num_passwords_over_8)\n",
    "\n",
    "print(f\"There {word1} {num_passwords_over_8} {word2} with more than 8 characters.\")"
   ]
  },
  {
   "cell_type": "markdown",
   "metadata": {},
   "source": [
    "6. How many passwords do not contain a number?"
   ]
  },
  {
   "cell_type": "code",
   "execution_count": 127,
   "metadata": {},
   "outputs": [
    {
     "name": "stdout",
     "output_type": "stream",
     "text": [
      "There are 407 passwords that do not contain a number.\n"
     ]
    }
   ],
   "source": [
    "no_number_mask = ~df['password'].str.contains(r'\\d')\n",
    "num_passwords_no_number = no_number_mask.sum()\n",
    "\n",
    "word1, word2 = words(num_passwords_no_number)\n",
    "\n",
    "print(f\"There {word1} {num_passwords_no_number} {word2} that do not contain a number.\")"
   ]
  },
  {
   "cell_type": "markdown",
   "metadata": {},
   "source": [
    "7. What is the average time in hours needed to crack these passwords that begin with `123`? How does this compare to the average of all passwords in the dataset?"
   ]
  },
  {
   "cell_type": "code",
   "execution_count": 128,
   "metadata": {},
   "outputs": [
    {
     "name": "stdout",
     "output_type": "stream",
     "text": [
      "Average time to crack passwords starting with '123': 120.33 hours\n",
      "Average time to crack all passwords: 15226.74 hours\n"
     ]
    }
   ],
   "source": [
    "passwords_starting_with_123 = df[df['password'].str.startswith('123')]\n",
    "average_time_123 = passwords_starting_with_123['value'].mean()\n",
    "average_time_all = df['value'].mean()\n",
    "\n",
    "print(f\"Average time to crack passwords starting with '123': {average_time_123:.2f} hours\")\n",
    "print(f\"Average time to crack all passwords: {average_time_all:.2f} hours\")"
   ]
  },
  {
   "cell_type": "markdown",
   "metadata": {},
   "source": [
    "8. What percentage of passwords are of the `simple-alphanumeric` category?"
   ]
  },
  {
   "cell_type": "code",
   "execution_count": 129,
   "metadata": {},
   "outputs": [
    {
     "name": "stdout",
     "output_type": "stream",
     "text": [
      "Percentage of passwords in 'simple-alphanumeric' category: 12.47%\n"
     ]
    }
   ],
   "source": [
    "total_passwords = len(df)\n",
    "num_simple_alphanumeric = df[df['category'] == 'simple-alphanumeric'].shape[0]\n",
    "percentage_simple_alphanumeric = (num_simple_alphanumeric / total_passwords) * 100\n",
    "\n",
    "print(f\"Percentage of passwords in 'simple-alphanumeric' category: {percentage_simple_alphanumeric:.2f}%\")"
   ]
  },
  {
   "cell_type": "markdown",
   "metadata": {},
   "source": [
    "9. How many passwords have a strength rating below 5? What is their percentage?"
   ]
  },
  {
   "cell_type": "code",
   "execution_count": 130,
   "metadata": {},
   "outputs": [
    {
     "name": "stdout",
     "output_type": "stream",
     "text": [
      "Number of passwords with strength below 5: 58\n",
      "Percentage of passwords with strength below 5: 12.69%\n"
     ]
    }
   ],
   "source": [
    "weak_passwords = df[df['strength'] < 5]\n",
    "num_weak_passwords = weak_passwords.shape[0]\n",
    "percentage_weak_passwords = (num_weak_passwords / total_passwords) * 100\n",
    "\n",
    "print(f\"Number of passwords with strength below 5: {num_weak_passwords}\")\n",
    "print(f\"Percentage of passwords with strength below 5: {percentage_weak_passwords:.2f}%\")"
   ]
  },
  {
   "cell_type": "markdown",
   "metadata": {},
   "source": [
    "10. What is the most common password in the dataset?"
   ]
  },
  {
   "cell_type": "code",
   "execution_count": 131,
   "metadata": {},
   "outputs": [
    {
     "name": "stdout",
     "output_type": "stream",
     "text": [
      "The most common password in the dataset is: password\n"
     ]
    }
   ],
   "source": [
    "most_common_password = df[df['rank'] == 1]['password'].iloc[0]\n",
    "\n",
    "print(f\"The most common password in the dataset is: {most_common_password}\")"
   ]
  },
  {
   "cell_type": "markdown",
   "metadata": {},
   "source": [
    "11. How many unique passwords are there in each category, and what is their average length?"
   ]
  },
  {
   "cell_type": "code",
   "execution_count": 132,
   "metadata": {},
   "outputs": [
    {
     "name": "stdout",
     "output_type": "stream",
     "text": [
      "              category  unique_passwords  average_length\n",
      "0               animal                27        6.296296\n",
      "1           cool-macho                74        6.337838\n",
      "2               fluffy                33        6.060606\n",
      "3                 food                10        6.200000\n",
      "4                 name               166        6.343373\n",
      "5            nerdy-pop                28        6.678571\n",
      "6     password-related                14        6.428571\n",
      "7      rebellious-rude                11        6.363636\n",
      "8  simple-alphanumeric                57        5.929825\n",
      "9                sport                37        6.513514\n"
     ]
    }
   ],
   "source": [
    "df['password_length'] = df['password'].str.len()\n",
    "\n",
    "category_stats = df.groupby('category').agg(\n",
    "    unique_passwords=('password', 'nunique'),\n",
    "    average_length=('password_length', 'mean')\n",
    ").reset_index()\n",
    "\n",
    "print(category_stats)"
   ]
  },
  {
   "cell_type": "markdown",
   "metadata": {},
   "source": [
    "12. What is the median rank and strength for passwords of each length?"
   ]
  },
  {
   "cell_type": "code",
   "execution_count": 133,
   "metadata": {},
   "outputs": [
    {
     "name": "stdout",
     "output_type": "stream",
     "text": [
      "   password_length  median_rank  median_strength\n",
      "0                4        326.0              6.0\n",
      "1                5        410.0              4.0\n",
      "2                6        231.0              7.0\n",
      "3                7        223.0              8.0\n",
      "4                8        286.0              8.0\n",
      "5                9         49.0              4.0\n"
     ]
    }
   ],
   "source": [
    "length_stats = df.groupby('password_length').agg(\n",
    "    median_rank=('rank', 'median'),\n",
    "    median_strength=('strength', 'median')\n",
    ").reset_index()\n",
    "\n",
    "print(length_stats)"
   ]
  },
  {
   "cell_type": "markdown",
   "metadata": {},
   "source": [
    "13. Add a column `strength_label` with values `weak` if strength is below 5, else `strong`. Use a lambda function."
   ]
  },
  {
   "cell_type": "code",
   "execution_count": 134,
   "metadata": {},
   "outputs": [
    {
     "name": "stdout",
     "output_type": "stream",
     "text": [
      "   password  strength strength_label\n",
      "0  password       8.0         strong\n",
      "1    123456       4.0           weak\n",
      "2  12345678       4.0           weak\n",
      "3      1234       4.0           weak\n",
      "4    qwerty       8.0         strong\n"
     ]
    }
   ],
   "source": [
    "df['strength_label'] = df['strength'].apply(lambda x: 'weak' if x < 5 else 'strong')\n",
    "\n",
    "print(df[['password', 'strength', 'strength_label']].head())"
   ]
  },
  {
   "cell_type": "markdown",
   "metadata": {},
   "source": [
    "14. Create a column `high_value` with a value of `True` if value is in the top 10% of values in the dataset."
   ]
  },
  {
   "cell_type": "code",
   "execution_count": 135,
   "metadata": {},
   "outputs": [
    {
     "name": "stdout",
     "output_type": "stream",
     "text": [
      "   password         value  high_value\n",
      "0  password  60531.600000        True\n",
      "1    123456      0.308667       False\n",
      "2  12345678     30.960000       False\n",
      "3      1234      0.003086       False\n",
      "4    qwerty     89.280000       False\n"
     ]
    }
   ],
   "source": [
    "threshold_value = df['value'].quantile(0.9)\n",
    "df['high_value'] = df['value'] >= threshold_value\n",
    "\n",
    "print(df[['password', 'value', 'high_value']].head())"
   ]
  },
  {
   "cell_type": "markdown",
   "metadata": {},
   "source": [
    "15. Join all passwords within each `category` into a single string."
   ]
  },
  {
   "cell_type": "code",
   "execution_count": 136,
   "metadata": {},
   "outputs": [
    {
     "name": "stdout",
     "output_type": "stream",
     "text": [
      "              category                                           password\n",
      "0               animal  dragon monkey bigdog falcon phoenix tigers chi...\n",
      "1           cool-macho  mustang shadow master harley hunter ranger bus...\n",
      "2               fluffy  love sunshine silver orange ginger summer prin...\n",
      "3                 food  pepper cheese coffee banana butter muffin hotd...\n",
      "4                 name  michael jennifer jordan superman thomas tigger...\n",
      "5            nerdy-pop  starwars computer merlin matrix snoopy boomer ...\n",
      "6     password-related  password letmein test pass access gateway plea...\n",
      "7      rebellious-rude  biteme freedom secret whatever badboy sexsex b...\n",
      "8  simple-alphanumeric  123456 12345678 1234 qwerty 12345 696969 abc12...\n",
      "9                sport  baseball football soccer hockey dallas yankees...\n"
     ]
    }
   ],
   "source": [
    "passwords_joined = df.groupby('category')['password'].apply(' '.join).reset_index()\n",
    "\n",
    "print(passwords_joined)"
   ]
  },
  {
   "cell_type": "markdown",
   "metadata": {},
   "source": [
    "**Bonus question 01**: What is the correlation between password length and strength? Create a scatter plot with regression line."
   ]
  },
  {
   "cell_type": "code",
   "execution_count": 137,
   "metadata": {},
   "outputs": [
    {
     "name": "stdout",
     "output_type": "stream",
     "text": [
      "Correlation between password length and strength: 0.27\n"
     ]
    },
    {
     "name": "stderr",
     "output_type": "stream",
     "text": [
      "c:\\Users\\hossa\\anaconda3\\Lib\\site-packages\\seaborn\\axisgrid.py:118: UserWarning: The figure layout has changed to tight\n",
      "  self._figure.tight_layout(*args, **kwargs)\n"
     ]
    },
    {
     "data": {
      "image/png": "[encoded data removed]",
      "text/plain": [
       "<Figure size 900x600 with 1 Axes>"
      ]
     },
     "metadata": {},
     "output_type": "display_data"
    }
   ],
   "source": [
    "correlation = df['password_length'].corr(df['strength'])\n",
    "print(f\"Correlation between password length and strength: {correlation:.2f}\")\n",
    "\n",
    "sns.lmplot(x='password_length', y='strength', data=df, height=6, aspect=1.5)\n",
    "\n",
    "plt.title('Password Length vs Strength')\n",
    "plt.xlabel('Password Length')\n",
    "plt.ylabel('Strength Rating')\n",
    "\n",
    "plt.show()"
   ]
  },
  {
   "cell_type": "markdown",
   "metadata": {},
   "source": [
    "We observe a very weak correlation between length and strength for the passwords in this data. This could be attributed to the fact that these passwords are from actual data breaches, and therefore already 'weak'. Perhaps this correlation could be different with a random sample of passwords."
   ]
  },
  {
   "cell_type": "markdown",
   "metadata": {},
   "source": [
    "**Bonus question 02**: Find all passwords with palindromes."
   ]
  },
  {
   "cell_type": "code",
   "execution_count": 139,
   "metadata": {},
   "outputs": [
    {
     "name": "stdout",
     "output_type": "stream",
     "text": [
      "Passwords that are palindromes:\n",
      "['111111', '666666', '1111', 'aaaaaa', 'xxxxxx', 'hannah', '11111111', '222222', 'xxxxxxxx', '777777', '88888888', '2112', '7777', 'zzzzzz', '555555', '2222', '4444', '11111', '123321', '999999', '333333', 'xxxx', '888888']\n"
     ]
    }
   ],
   "source": [
    "def is_palindrome(s):\n",
    "    s = str(s).lower()\n",
    "    return s == s[::-1] # unfortunately this solution is frowned upon during interviews :(\n",
    "\n",
    "df['is_palindrome'] = df['password'].apply(is_palindrome)\n",
    "\n",
    "palindrome_passwords = df[df['is_palindrome']]\n",
    "\n",
    "print(\"Passwords that are palindromes:\")\n",
    "print(palindrome_passwords['password'].tolist())"
   ]
  }
 ],
 "metadata": {
  "kernelspec": {
   "display_name": "base",
   "language": "python",
   "name": "python3"
  },
  "language_info": {
   "codemirror_mode": {
    "name": "ipython",
    "version": 3
   },
   "file_extension": ".py",
   "mimetype": "text/x-python",
   "name": "python",
   "nbconvert_exporter": "python",
   "pygments_lexer": "ipython3",
   "version": "3.11.5"
  }
 },
 "nbformat": 4,
 "nbformat_minor": 2
}
